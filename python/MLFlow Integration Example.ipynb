{
 "cells": [
  {
   "cell_type": "markdown",
   "metadata": {},
   "source": [
    "In this notebook, we will explore the basic functionality of the MLFlow integration of WhyLogs Python library.\n",
    "\n",
    "# MLFlow + WhyLogs Integration Example\n",
    "We will first read in raw data into Pandas from file and explore that data briefly. To run WhyLogs, we will then import the WhyLogs library, initialize a logging session with WhyLogs, and create a profile that data -- resulting in a WhyLogs profile summary. Finally, we'll explore some of the features of the profile summary content.\n",
    "\n",
    "First, we will import a few standard data science Python libraries."
   ]
  },
  {
   "cell_type": "code",
   "execution_count": null,
   "metadata": {},
   "outputs": [],
   "source": [
    "import warnings\n",
    "warnings.filterwarnings(\"ignore\")"
   ]
  },
  {
   "cell_type": "code",
   "execution_count": null,
   "metadata": {},
   "outputs": [],
   "source": [
    "import glob\n",
    "import random\n",
    "import time\n",
    "\n",
    "import pandas as pd\n",
    "import numpy as np\n",
    "import mlflow\n",
    "import whylogs\n",
    "\n",
    "from sklearn.metrics import mean_absolute_error\n",
    "from sklearn.model_selection import train_test_split\n",
    "from sklearn.linear_model import ElasticNet"
   ]
  },
  {
   "cell_type": "markdown",
   "metadata": {},
   "source": [
    "Enable WhyLogs in MLFlow to allow storage of WhyLogs statistical profiles. This can be disabled using `whylogs.disable_mlflow()`."
   ]
  },
  {
   "cell_type": "code",
   "execution_count": null,
   "metadata": {},
   "outputs": [],
   "source": [
    "whylogs.enable_mlflow()"
   ]
  },
  {
   "cell_type": "markdown",
   "metadata": {},
   "source": [
    "Download and prepare the UCI wine quality dataset. We sample test dataset further to represent batches of datasets produced every second."
   ]
  },
  {
   "cell_type": "code",
   "execution_count": null,
   "metadata": {},
   "outputs": [],
   "source": [
    "# Load wine quality dataset\n",
    "data_url = \"http://archive.ics.uci.edu/ml/machine-learning-databases/wine-quality/winequality-red.csv\"\n",
    "data = pd.read_csv(data_url, sep=\";\")\n",
    "\n",
    "# Split the data into training and test sets\n",
    "train, test = train_test_split(data)\n",
    "\n",
    "# Relocate predicted variable \"quality\" to y vectors\n",
    "train_x = train.drop([\"quality\"], axis=1).reset_index(drop=True)\n",
    "test_x = test.drop([\"quality\"], axis=1).reset_index(drop=True)\n",
    "train_y = train[[\"quality\"]].reset_index(drop=True)\n",
    "test_y = test[[\"quality\"]].reset_index(drop=True)\n",
    "\n",
    "# Sample from test data to collect \"daily\" data\n",
    "subset_test_x = []\n",
    "subset_test_y = []\n",
    "for i in range(20):\n",
    "    indices = random.sample(range(len(test)), 5)\n",
    "    subset_test_x.append(test_x.loc[indices, :])\n",
    "    subset_test_y.append(test_y.loc[indices, :])"
   ]
  },
  {
   "cell_type": "markdown",
   "metadata": {},
   "source": [
    "Train an ElasticNet model using scikit-learn.\n",
    "\n",
    "We then run this model for each of the batches of data, logging the model parameters, MAE evaluation metric, and WhyLogs dataset (from Pandas DataFrame)."
   ]
  },
  {
   "cell_type": "code",
   "execution_count": null,
   "metadata": {},
   "outputs": [],
   "source": [
    "model_params = {\"alpha\": 1.0,\n",
    "                \"l1_ratio\": 2.0}\n",
    "\n",
    "lr = ElasticNet(**model_params)\n",
    "lr.fit(train_x, train_y)\n",
    "print(\"Elasticnet model (%s):\" % (model_params))\n",
    "\n",
    "for i in range(20):\n",
    "    predicted_output = lr.predict(subset_test_x[i])\n",
    "    \n",
    "    mae = mean_absolute_error(subset_test_y[i], predicted_output)\n",
    "    print(\"  Subset %.0f, mean absolute error: %s\" % (i, mae))\n",
    "    \n",
    "    mlflow.log_params(model_params)\n",
    "    mlflow.log_metric(\"mae\", mae)\n",
    "    \n",
    "    mlflow.whylogs.log_pandas(train)\n",
    "    mlflow.end_run()\n",
    "    \n",
    "    time.sleep(1)"
   ]
  },
  {
   "cell_type": "markdown",
   "metadata": {},
   "source": [
    "Let's now collect the `experiment_id` from MLFlow for the previous experiment."
   ]
  },
  {
   "cell_type": "code",
   "execution_count": null,
   "metadata": {},
   "outputs": [],
   "source": [
    "client = mlflow.tracking.MlflowClient()\n",
    "experiment = client.list_experiments()[0]"
   ]
  },
  {
   "cell_type": "markdown",
   "metadata": {},
   "source": [
    "Inside of MLFlow, the profiles are stored as *artifacts*. These can be retrieved in the same way you store MLFlow projects, parameters, and metrics. Here is one example using MLFlow's Python API."
   ]
  },
  {
   "cell_type": "code",
   "execution_count": null,
   "metadata": {},
   "outputs": [],
   "source": [
    "runs = client.list_run_infos(experiment.experiment_id)\n",
    "\n",
    "for run in runs:\n",
    "    artifacts = client.list_artifacts(run.run_id)\n",
    "    for artifact in artifacts:\n",
    "        if artifact.path == \"whylogs\":\n",
    "            print(artifact)"
   ]
  },
  {
   "cell_type": "markdown",
   "metadata": {},
   "source": [
    "Our integration allows you to quickly collect the statistical profiles produced during experimentation."
   ]
  },
  {
   "cell_type": "code",
   "execution_count": null,
   "metadata": {
    "scrolled": true
   },
   "outputs": [],
   "source": [
    "mlflow_profiles = whylogs.mlflow.get_experiment_profiles(experiment.experiment_id)\n",
    "mlflow_profiles"
   ]
  },
  {
   "cell_type": "markdown",
   "metadata": {},
   "source": [
    "You can then use `whylogs.viz` to easily produce visualizations for the WhyLogs profile data."
   ]
  },
  {
   "cell_type": "code",
   "execution_count": null,
   "metadata": {},
   "outputs": [],
   "source": [
    "from whylogs.viz import ProfileVisualizer\n",
    "\n",
    "viz = ProfileVisualizer()\n",
    "viz.set_profiles(mlflow_profiles)"
   ]
  },
  {
   "cell_type": "code",
   "execution_count": null,
   "metadata": {},
   "outputs": [],
   "source": [
    "viz.plot_distribution(\"free sulfur dioxide\", ts_format=\"%d-%b-%y %H:%M:%S\")"
   ]
  },
  {
   "cell_type": "markdown",
   "metadata": {},
   "source": [
    "MLFlow provides a command line interface allows can start an HTTP server where we can examine the experiment information, including artifacts like WhyLogs. We will use `!` to start that server here in Jupyter notebook instead of returning to the command line."
   ]
  },
  {
   "cell_type": "code",
   "execution_count": null,
   "metadata": {},
   "outputs": [],
   "source": [
    "!mlflow ui"
   ]
  },
  {
   "cell_type": "code",
   "execution_count": null,
   "metadata": {},
   "outputs": [],
   "source": []
  }
 ],
 "metadata": {
  "kernelspec": {
   "display_name": "Python 3",
   "language": "python",
   "name": "python3"
  },
  "language_info": {
   "codemirror_mode": {
    "name": "ipython",
    "version": 3
   },
   "file_extension": ".py",
   "mimetype": "text/x-python",
   "name": "python",
   "nbconvert_exporter": "python",
   "pygments_lexer": "ipython3",
   "version": "3.8.3"
  }
 },
 "nbformat": 4,
 "nbformat_minor": 4
}
